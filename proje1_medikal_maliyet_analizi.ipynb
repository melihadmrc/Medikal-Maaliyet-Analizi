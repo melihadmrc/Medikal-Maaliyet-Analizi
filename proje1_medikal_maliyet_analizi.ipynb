{
 "cells": [
  {
   "cell_type": "code",
   "execution_count": 1,
   "id": "b04587ca-7b52-4f79-b2ec-84c91760440e",
   "metadata": {},
   "outputs": [],
   "source": [
    "import numpy as np # çok boyutlu dizilerle ve matrislerle çalışmamıza yardım eden ileri düzey matematiksel işlemler yapabileceğimiz bir kütüphanedir. \n",
    "import pandas as pd # pandas, “ilişkisel” ve “etiketli” verilerle çalışmayı kolay ve sezgisel hale getirmek için tasarlanmış hızlı, esnek ve etkileyici veri yapıları sağlayan bir Python paketidir.\n",
    "import matplotlib.pyplot as plt # grafik görselleştirme kütüphanesi\n",
    "import seaborn as sbn "
   ]
  },
  {
   "cell_type": "code",
   "execution_count": 2,
   "id": "00506463-96fe-4692-88c4-1eae3f69dcd7",
   "metadata": {},
   "outputs": [
    {
     "data": {
      "text/html": [
       "<div>\n",
       "<style scoped>\n",
       "    .dataframe tbody tr th:only-of-type {\n",
       "        vertical-align: middle;\n",
       "    }\n",
       "\n",
       "    .dataframe tbody tr th {\n",
       "        vertical-align: top;\n",
       "    }\n",
       "\n",
       "    .dataframe thead th {\n",
       "        text-align: right;\n",
       "    }\n",
       "</style>\n",
       "<table border=\"1\" class=\"dataframe\">\n",
       "  <thead>\n",
       "    <tr style=\"text-align: right;\">\n",
       "      <th></th>\n",
       "      <th>age</th>\n",
       "      <th>sex</th>\n",
       "      <th>bmi</th>\n",
       "      <th>children</th>\n",
       "      <th>smoker</th>\n",
       "      <th>region</th>\n",
       "      <th>charges</th>\n",
       "    </tr>\n",
       "  </thead>\n",
       "  <tbody>\n",
       "    <tr>\n",
       "      <th>0</th>\n",
       "      <td>19</td>\n",
       "      <td>female</td>\n",
       "      <td>27.900</td>\n",
       "      <td>0</td>\n",
       "      <td>yes</td>\n",
       "      <td>southwest</td>\n",
       "      <td>16884.92400</td>\n",
       "    </tr>\n",
       "    <tr>\n",
       "      <th>1</th>\n",
       "      <td>18</td>\n",
       "      <td>male</td>\n",
       "      <td>33.770</td>\n",
       "      <td>1</td>\n",
       "      <td>no</td>\n",
       "      <td>southeast</td>\n",
       "      <td>1725.55230</td>\n",
       "    </tr>\n",
       "    <tr>\n",
       "      <th>2</th>\n",
       "      <td>28</td>\n",
       "      <td>male</td>\n",
       "      <td>33.000</td>\n",
       "      <td>3</td>\n",
       "      <td>no</td>\n",
       "      <td>southeast</td>\n",
       "      <td>4449.46200</td>\n",
       "    </tr>\n",
       "    <tr>\n",
       "      <th>3</th>\n",
       "      <td>33</td>\n",
       "      <td>male</td>\n",
       "      <td>22.705</td>\n",
       "      <td>0</td>\n",
       "      <td>no</td>\n",
       "      <td>northwest</td>\n",
       "      <td>21984.47061</td>\n",
       "    </tr>\n",
       "    <tr>\n",
       "      <th>4</th>\n",
       "      <td>32</td>\n",
       "      <td>male</td>\n",
       "      <td>28.880</td>\n",
       "      <td>0</td>\n",
       "      <td>no</td>\n",
       "      <td>northwest</td>\n",
       "      <td>3866.85520</td>\n",
       "    </tr>\n",
       "    <tr>\n",
       "      <th>...</th>\n",
       "      <td>...</td>\n",
       "      <td>...</td>\n",
       "      <td>...</td>\n",
       "      <td>...</td>\n",
       "      <td>...</td>\n",
       "      <td>...</td>\n",
       "      <td>...</td>\n",
       "    </tr>\n",
       "    <tr>\n",
       "      <th>1333</th>\n",
       "      <td>50</td>\n",
       "      <td>male</td>\n",
       "      <td>30.970</td>\n",
       "      <td>3</td>\n",
       "      <td>no</td>\n",
       "      <td>northwest</td>\n",
       "      <td>10600.54830</td>\n",
       "    </tr>\n",
       "    <tr>\n",
       "      <th>1334</th>\n",
       "      <td>18</td>\n",
       "      <td>female</td>\n",
       "      <td>31.920</td>\n",
       "      <td>0</td>\n",
       "      <td>no</td>\n",
       "      <td>northeast</td>\n",
       "      <td>2205.98080</td>\n",
       "    </tr>\n",
       "    <tr>\n",
       "      <th>1335</th>\n",
       "      <td>18</td>\n",
       "      <td>female</td>\n",
       "      <td>36.850</td>\n",
       "      <td>0</td>\n",
       "      <td>no</td>\n",
       "      <td>southeast</td>\n",
       "      <td>1629.83350</td>\n",
       "    </tr>\n",
       "    <tr>\n",
       "      <th>1336</th>\n",
       "      <td>21</td>\n",
       "      <td>female</td>\n",
       "      <td>25.800</td>\n",
       "      <td>0</td>\n",
       "      <td>no</td>\n",
       "      <td>southwest</td>\n",
       "      <td>2007.94500</td>\n",
       "    </tr>\n",
       "    <tr>\n",
       "      <th>1337</th>\n",
       "      <td>61</td>\n",
       "      <td>female</td>\n",
       "      <td>29.070</td>\n",
       "      <td>0</td>\n",
       "      <td>yes</td>\n",
       "      <td>northwest</td>\n",
       "      <td>29141.36030</td>\n",
       "    </tr>\n",
       "  </tbody>\n",
       "</table>\n",
       "<p>1338 rows × 7 columns</p>\n",
       "</div>"
      ],
      "text/plain": [
       "      age     sex     bmi  children smoker     region      charges\n",
       "0      19  female  27.900         0    yes  southwest  16884.92400\n",
       "1      18    male  33.770         1     no  southeast   1725.55230\n",
       "2      28    male  33.000         3     no  southeast   4449.46200\n",
       "3      33    male  22.705         0     no  northwest  21984.47061\n",
       "4      32    male  28.880         0     no  northwest   3866.85520\n",
       "...   ...     ...     ...       ...    ...        ...          ...\n",
       "1333   50    male  30.970         3     no  northwest  10600.54830\n",
       "1334   18  female  31.920         0     no  northeast   2205.98080\n",
       "1335   18  female  36.850         0     no  southeast   1629.83350\n",
       "1336   21  female  25.800         0     no  southwest   2007.94500\n",
       "1337   61  female  29.070         0    yes  northwest  29141.36030\n",
       "\n",
       "[1338 rows x 7 columns]"
      ]
     },
     "execution_count": 2,
     "metadata": {},
     "output_type": "execute_result"
    }
   ],
   "source": [
    "dataFrameVerisi =pd.read_csv(\"insurance.csv\") # pandas kütüphanesi yardımıyla verimizi projemize DataFrame serisi olarak dahil ettik.\n",
    "dataFrameVerisi"
   ]
  },
  {
   "cell_type": "code",
   "execution_count": 3,
   "id": "c0ff6a66",
   "metadata": {},
   "outputs": [
    {
     "name": "stdout",
     "output_type": "stream",
     "text": [
      "<class 'pandas.core.frame.DataFrame'>\n",
      "RangeIndex: 1338 entries, 0 to 1337\n",
      "Data columns (total 7 columns):\n",
      " #   Column    Non-Null Count  Dtype  \n",
      "---  ------    --------------  -----  \n",
      " 0   age       1338 non-null   int64  \n",
      " 1   sex       1338 non-null   object \n",
      " 2   bmi       1338 non-null   float64\n",
      " 3   children  1338 non-null   int64  \n",
      " 4   smoker    1338 non-null   object \n",
      " 5   region    1338 non-null   object \n",
      " 6   charges   1338 non-null   float64\n",
      "dtypes: float64(2), int64(2), object(3)\n",
      "memory usage: 73.3+ KB\n"
     ]
    }
   ],
   "source": [
    "# genel bilgiler\n",
    "dataFrameVerisi.info()"
   ]
  },
  {
   "cell_type": "code",
   "execution_count": 4,
   "id": "d2960272",
   "metadata": {},
   "outputs": [
    {
     "name": "stderr",
     "output_type": "stream",
     "text": [
      "C:\\Users\\omerp\\anaconda3\\lib\\site-packages\\seaborn\\distributions.py:2619: FutureWarning: `distplot` is a deprecated function and will be removed in a future version. Please adapt your code to use either `displot` (a figure-level function with similar flexibility) or `histplot` (an axes-level function for histograms).\n",
      "  warnings.warn(msg, FutureWarning)\n"
     ]
    },
    {
     "data": {
      "image/png": "[encoded data removed]",
      "text/plain": [
       "<Figure size 720x576 with 1 Axes>"
      ]
     },
     "metadata": {},
     "output_type": "display_data"
    }
   ],
   "source": [
    "# Bmi(Vücut Kitle İndeksi)’nin dağılımını inceleyiniz\n",
    "\n",
    "sbn.set()\n",
    "plt.figure(figsize=(10,8))\n",
    "sbn.distplot(dataFrameVerisi['bmi'])\n",
    "plt.title('Vücut Kitle İndeksi')\n",
    "plt.show()\n",
    "\n",
    "#bmi(vücut kitle indeksi) 25-35 arasında ve tepe noktasında 30 olduğu gözlenmektedir."
   ]
  },
  {
   "cell_type": "code",
   "execution_count": 5,
   "id": "194951e8",
   "metadata": {},
   "outputs": [
    {
     "data": {
      "image/png": "[encoded data removed]",
      "text/plain": [
       "<Figure size 432x288 with 1 Axes>"
      ]
     },
     "metadata": {},
     "output_type": "display_data"
    }
   ],
   "source": [
    "# “smoker” ile “charges” arasındaki ilişkiyi inceleyiniz\n",
    "plt.xlabel(\"smoker\")\n",
    "plt.ylabel(\"charges\")\n",
    "plt.title(\"the relationship between smoker and charges \")\n",
    "sbn.barplot(x=dataFrameVerisi[\"smoker\"], y=dataFrameVerisi[\"charges\"])\n",
    "plt.show()\n",
    "\n",
    "#sigara içenlerin maaliyeti daha yüksek görünmektedir. Sigara içenlerin ,sigara içmeyenlerden 1.5 kat daha fazla sağlık için ödeme yaptığı gözlenmektedir.  "
   ]
  },
  {
   "cell_type": "code",
   "execution_count": 6,
   "id": "b4b42902",
   "metadata": {},
   "outputs": [
    {
     "data": {
      "text/plain": [
       "no     1064\n",
       "yes     274\n",
       "Name: smoker, dtype: int64"
      ]
     },
     "execution_count": 6,
     "metadata": {},
     "output_type": "execute_result"
    }
   ],
   "source": [
    "dataFrameVerisi['smoker'].value_counts()"
   ]
  },
  {
   "cell_type": "code",
   "execution_count": 7,
   "id": "5c29ee7d-b796-4167-a98c-bf632634b8c8",
   "metadata": {},
   "outputs": [
    {
     "data": {
      "text/plain": [
       "<seaborn.axisgrid.FacetGrid at 0x1924e44d670>"
      ]
     },
     "execution_count": 7,
     "metadata": {},
     "output_type": "execute_result"
    },
    {
     "data": {
      "image/png": "[encoded data removed]",
      "text/plain": [
       "<Figure size 449.1x360 with 1 Axes>"
      ]
     },
     "metadata": {},
     "output_type": "display_data"
    }
   ],
   "source": [
    "# “smoker” (Sigara tüketen) ile “region”(Bölge) arasındaki ilişkiyi inceleyiniz\n",
    "sbn.catplot(x=\"smoker\", kind=\"count\",hue = 'region', palette=\"Blues\", data=dataFrameVerisi)\n",
    "\n",
    "#sigara içenlerin ve içmeyenlerin southeast bölgesinde yoğunlaştığı gözlenmektedir. Sigara içmeyenlerin oranına göre northeast en düşük bölge olduğu görülmektedir."
   ]
  },
  {
   "cell_type": "code",
   "execution_count": 8,
   "id": "3e052fb4",
   "metadata": {},
   "outputs": [
    {
     "data": {
      "image/png": "[encoded data removed]",
      "text/plain": [
       "<Figure size 432x288 with 1 Axes>"
      ]
     },
     "metadata": {},
     "output_type": "display_data"
    }
   ],
   "source": [
    "# “bmi” ile “sex”(Cinsiyet) arasındaki ilişkiyi inceleyiniz.\n",
    "plt.xlabel(\"sex\")\n",
    "plt.ylabel(\"bmi(vücut kitle indeksi)\")\n",
    "plt.title(\"the relationship between bmi and sex\")\n",
    "sbn.barplot(x=dataFrameVerisi[\"sex\"], y=dataFrameVerisi[\"bmi\"])\n",
    "plt.show()"
   ]
  },
  {
   "cell_type": "code",
   "execution_count": 9,
   "id": "261609b8",
   "metadata": {},
   "outputs": [
    {
     "data": {
      "text/plain": [
       "<AxesSubplot:xlabel='children', ylabel='count'>"
      ]
     },
     "execution_count": 9,
     "metadata": {},
     "output_type": "execute_result"
    },
    {
     "data": {
      "image/png": "[encoded data removed]",
      "text/plain": [
       "<Figure size 432x288 with 1 Axes>"
      ]
     },
     "metadata": {},
     "output_type": "display_data"
    }
   ],
   "source": [
    "#  En çok “children”’a sahip “region”’ı bulunuz.\n",
    "sbn.countplot(x='children',hue='region',data=dataFrameVerisi,palette='RdBu_r')\n",
    "\n",
    "#incelenen verilere göre çocuk sahibi olmayan insanların en çok bulunduğu bölge southeast olduğu, en az bölgenin de northwest olduğu gözlenmektedir.\n",
    "#incelenen verilere göre çocuk sahibi olan insanların en çok bulunduğu bölge southwest olduğu gözlenmektedir."
   ]
  },
  {
   "cell_type": "code",
   "execution_count": 10,
   "id": "3bb01f48-b8ab-4b0d-9c66-e93fc4669303",
   "metadata": {},
   "outputs": [
    {
     "data": {
      "text/plain": [
       "<AxesSubplot:xlabel='age', ylabel='bmi'>"
      ]
     },
     "execution_count": 10,
     "metadata": {},
     "output_type": "execute_result"
    },
    {
     "data": {
      "image/png": "[encoded data removed]",
      "text/plain": [
       "<Figure size 432x288 with 1 Axes>"
      ]
     },
     "metadata": {},
     "output_type": "display_data"
    }
   ],
   "source": [
    "# “Age” ile “bmi” arasındaki ilişkiyi inceleyiniz.\n",
    "sbn.scatterplot(x=\"age\",y=\"bmi\",data=dataFrameVerisi)\n",
    "\n",
    "#20-30 yaş arasındaki vücut kitle indeksinin daha yoğun olduğu gözlenmektedir."
   ]
  },
  {
   "cell_type": "code",
   "execution_count": 11,
   "id": "b48a1a79-2db5-44bc-8bc2-6be171bef12c",
   "metadata": {},
   "outputs": [
    {
     "data": {
      "text/plain": [
       "<AxesSubplot:xlabel='children', ylabel='bmi'>"
      ]
     },
     "execution_count": 11,
     "metadata": {},
     "output_type": "execute_result"
    },
    {
     "data": {
      "image/png": "[encoded data removed]",
      "text/plain": [
       "<Figure size 432x288 with 1 Axes>"
      ]
     },
     "metadata": {},
     "output_type": "display_data"
    }
   ],
   "source": [
    "# “bmi” ile “children” arasındaki ilişkiyi inceleyiniz\n",
    "sbn.scatterplot(x=\"children\",y=\"bmi\",data=dataFrameVerisi)\n",
    "\n",
    "#çocuk sayısı az oldukça vücut kitle indeksinin daha yüksek olduğu gözlenmektedir."
   ]
  },
  {
   "cell_type": "code",
   "execution_count": 12,
   "id": "ee8c7678-8409-4d7d-8e5b-be3a9c1c1b3b",
   "metadata": {},
   "outputs": [
    {
     "data": {
      "image/png": "[encoded data removed]",
      "text/plain": [
       "<Figure size 1080x1080 with 1 Axes>"
      ]
     },
     "metadata": {},
     "output_type": "display_data"
    },
    {
     "data": {
      "text/plain": [
       "<Figure size 2160x1080 with 0 Axes>"
      ]
     },
     "metadata": {},
     "output_type": "display_data"
    }
   ],
   "source": [
    "# \"bmi” değişkeninde outlier var mıdır? İnceleyiniz\n",
    "# Outlier of bmi Column\n",
    "\n",
    "plt.style.use('ggplot')\n",
    "ax = dataFrameVerisi['bmi'].plot.box(figsize=(15, 15))\n",
    "plt.figure(figsize=(30, 15))\n",
    "ax.tick_params(axis='x', labelrotation=45, labelsize=15)\n",
    "\n",
    "#ASD ve ÜSD dışında kalan tüm değerler outlier (aykırı değer) olarak tespit edilir. Veri keşfinde kullandığımız kuru grafikleri (boxplot) kartil mantığında veriyi gösrselleştirmektedirler."
   ]
  },
  {
   "cell_type": "markdown",
   "id": "92f36919-b685-4188-8e0b-82fd42c05779",
   "metadata": {},
   "source": [
    "BMI sütununda aykırı değer olduğu görülmektedir."
   ]
  },
  {
   "cell_type": "code",
   "execution_count": 13,
   "id": "434fce99-54c3-4a97-a5ab-fa6940c9c80d",
   "metadata": {},
   "outputs": [
    {
     "data": {
      "text/plain": [
       "<AxesSubplot:xlabel='bmi', ylabel='charges'>"
      ]
     },
     "execution_count": 13,
     "metadata": {},
     "output_type": "execute_result"
    },
    {
     "data": {
      "image/png": "[encoded data removed]",
      "text/plain": [
       "<Figure size 432x288 with 1 Axes>"
      ]
     },
     "metadata": {},
     "output_type": "display_data"
    }
   ],
   "source": [
    "# “bmi” ile “charges” arasındaki ilişkiyi inceleyiniz\n",
    "sbn.scatterplot(x=\"bmi\",y=\"charges\",data=dataFrameVerisi)\n",
    "\n",
    "#vücut kitle indeksinin 20-35 arasında yüksek olduğu için sağlık harcamaları daha az olduğu gözlenmektedir. "
   ]
  },
  {
   "cell_type": "code",
   "execution_count": 14,
   "id": "cbe469b0",
   "metadata": {},
   "outputs": [
    {
     "data": {
      "text/plain": [
       "<AxesSubplot:xlabel='region', ylabel='bmi'>"
      ]
     },
     "execution_count": 14,
     "metadata": {},
     "output_type": "execute_result"
    },
    {
     "data": {
      "image/png": "[encoded data removed]",
      "text/plain": [
       "<Figure size 432x288 with 1 Axes>"
      ]
     },
     "metadata": {},
     "output_type": "display_data"
    }
   ],
   "source": [
    "# “region”, “smoker” ve “bmi” arasındaki ilişkiyi bar plot kullanarak inceleyiniz.\n",
    "\n",
    "#Barplot with Hue Smoker\n",
    "sbn.barplot(x = dataFrameVerisi['region'], y = dataFrameVerisi['bmi'], hue = dataFrameVerisi['smoker'], data = dataFrameVerisi)\n",
    "\n",
    "#bölgelere göre vücut kitle indeksi kırılımına göre sigara içen ve içmeyenlerin keşifsel veri analizi. "
   ]
  },
  {
   "cell_type": "code",
   "execution_count": 15,
   "id": "63a79415-aef2-4c20-9c6f-01f87a1e8639",
   "metadata": {},
   "outputs": [
    {
     "data": {
      "text/plain": [
       "(1338, 7)"
      ]
     },
     "execution_count": 15,
     "metadata": {},
     "output_type": "execute_result"
    }
   ],
   "source": [
    "# verinin şekli (satır, sütun)\n",
    "\n",
    "dataFrameVerisi.shape"
   ]
  },
  {
   "cell_type": "code",
   "execution_count": 16,
   "id": "d74103d3-069e-42c5-aa71-99b17bacaf9e",
   "metadata": {},
   "outputs": [
    {
     "data": {
      "text/plain": [
       "1338"
      ]
     },
     "execution_count": 16,
     "metadata": {},
     "output_type": "execute_result"
    }
   ],
   "source": [
    "# toplam gözlem sayısı (n)\n",
    "\n",
    "len(dataFrameVerisi)"
   ]
  },
  {
   "cell_type": "code",
   "execution_count": 17,
   "id": "314f2f53-0a5f-4d63-8b09-0d2df47b3f2f",
   "metadata": {},
   "outputs": [
    {
     "data": {
      "text/plain": [
       "Index(['age', 'sex', 'bmi', 'children', 'smoker', 'region', 'charges'], dtype='object')"
      ]
     },
     "execution_count": 17,
     "metadata": {},
     "output_type": "execute_result"
    }
   ],
   "source": [
    "# sütunlar\n",
    "\n",
    "dataFrameVerisi.columns"
   ]
  },
  {
   "cell_type": "code",
   "execution_count": 18,
   "id": "70756032-eb36-47c8-a699-25cb37bffd43",
   "metadata": {},
   "outputs": [
    {
     "data": {
      "text/plain": [
       "7"
      ]
     },
     "execution_count": 18,
     "metadata": {},
     "output_type": "execute_result"
    }
   ],
   "source": [
    "# toplam sütun sayısı\n",
    "\n",
    "len(dataFrameVerisi.columns)"
   ]
  },
  {
   "cell_type": "code",
   "execution_count": 19,
   "id": "cb9e5202-84e8-4a7d-b699-d4be84f2909d",
   "metadata": {},
   "outputs": [
    {
     "data": {
      "text/plain": [
       "4"
      ]
     },
     "execution_count": 19,
     "metadata": {},
     "output_type": "execute_result"
    }
   ],
   "source": [
    "# kaç adet numerik sütun var\n",
    "# charges (y) da numerik bir sütun\n",
    "\n",
    "len(dataFrameVerisi.describe().columns)"
   ]
  },
  {
   "cell_type": "markdown",
   "id": "27206f3c-97e7-4145-bf19-26ff2bdd4dee",
   "metadata": {},
   "source": [
    "Verinin içinde:\n",
    "\n",
    "Toplam 7 sütun var\n",
    "\n",
    "Bunlardan 6'sı girdi (input) sütunları, 1'i çıktı (y) sütunu\n",
    "\n",
    "Girdi sütunlarının 3'i sayısal sütun, 3'u kategorik"
   ]
  },
  {
   "cell_type": "code",
   "execution_count": 20,
   "id": "31682bd1",
   "metadata": {},
   "outputs": [
    {
     "name": "stdout",
     "output_type": "stream",
     "text": [
      "age         0\n",
      "sex         0\n",
      "bmi         0\n",
      "children    0\n",
      "smoker      0\n",
      "region      0\n",
      "charges     0\n",
      "dtype: int64\n",
      "     age   sex    bmi  children smoker     region    charges\n",
      "581   19  male  30.59         0     no  northwest  1639.5631\n",
      "<class 'pandas.core.frame.DataFrame'>\n",
      "Int64Index: 1337 entries, 0 to 1337\n",
      "Data columns (total 7 columns):\n",
      " #   Column    Non-Null Count  Dtype  \n",
      "---  ------    --------------  -----  \n",
      " 0   age       1337 non-null   int64  \n",
      " 1   sex       1337 non-null   object \n",
      " 2   bmi       1337 non-null   float64\n",
      " 3   children  1337 non-null   int64  \n",
      " 4   smoker    1337 non-null   object \n",
      " 5   region    1337 non-null   object \n",
      " 6   charges   1337 non-null   float64\n",
      "dtypes: float64(2), int64(2), object(3)\n",
      "memory usage: 83.6+ KB\n",
      "None\n"
     ]
    }
   ],
   "source": [
    "#null olan değer var mı kontrol edilir.\n",
    "print(dataFrameVerisi.isnull().sum())\n",
    "#tekrar eden veri varsa silinir. veri tekrar kontrol edilir.\n",
    "print(dataFrameVerisi[dataFrameVerisi.duplicated()])\n",
    "dataFrameVerisi.drop(581, axis=0, inplace=True)\n",
    "print(dataFrameVerisi.info())"
   ]
  },
  {
   "cell_type": "code",
   "execution_count": 21,
   "id": "d1353e2d",
   "metadata": {},
   "outputs": [
    {
     "data": {
      "image/png": "[encoded data removed]",
      "text/plain": [
       "<Figure size 432x288 with 1 Axes>"
      ]
     },
     "metadata": {},
     "output_type": "display_data"
    },
    {
     "name": "stdout",
     "output_type": "stream",
     "text": [
      "Q1: 26.29 , Q2: 30.4 ve Q3: 34.7 IQR=8.410000000000004\n",
      "alt sınır:  13.674999999999994    üst sınır:  47.31500000000001\n",
      "verilerdeki outlier:        age     sex    bmi  children smoker     region      charges\n",
      "116    58    male  49.06         0     no  southeast  11381.32540\n",
      "286    46  female  48.07         2     no  northeast   9432.92530\n",
      "401    47    male  47.52         1     no  southeast   8083.91980\n",
      "543    54  female  47.41         0    yes  southeast  63770.42801\n",
      "847    23    male  50.38         1     no  southeast   2438.05520\n",
      "860    37  female  47.60         2    yes  southwest  46113.51100\n",
      "1047   22    male  52.58         1    yes  southeast  44501.39820\n",
      "1088   52    male  47.74         1     no  southeast   9748.91060\n",
      "1317   18    male  53.13         0     no  southeast   1163.46270\n",
      "      age     sex     bmi  children smoker     region      charges\n",
      "0      19  female  27.900         0    yes  southwest  16884.92400\n",
      "1      18    male  33.770         1     no  southeast   1725.55230\n",
      "2      28    male  33.000         3     no  southeast   4449.46200\n",
      "3      33    male  22.705         0     no  northwest  21984.47061\n",
      "4      32    male  28.880         0     no  northwest   3866.85520\n",
      "...   ...     ...     ...       ...    ...        ...          ...\n",
      "1333   50    male  30.970         3     no  northwest  10600.54830\n",
      "1334   18  female  31.920         0     no  northeast   2205.98080\n",
      "1335   18  female  36.850         0     no  southeast   1629.83350\n",
      "1336   21  female  25.800         0     no  southwest   2007.94500\n",
      "1337   61  female  29.070         0    yes  northwest  29141.36030\n",
      "\n",
      "[1328 rows x 7 columns]\n"
     ]
    },
    {
     "name": "stderr",
     "output_type": "stream",
     "text": [
      "C:\\Users\\omerp\\AppData\\Local\\Temp/ipykernel_25184/2147176007.py:15: UserWarning: Boolean Series key will be reindexed to match DataFrame index.\n",
      "  outlier_df = dataFrameVerisi[(sorted_bmi < alt_sınır) | (sorted_bmi > ust_sınır)]\n"
     ]
    }
   ],
   "source": [
    "#veriyi hazır hale getirmek için öncelikle outlier verileri çıkarmamız gerekir.\n",
    "sbn.boxplot(x=dataFrameVerisi[\"bmi\"])\n",
    "#sns.boxplot(x=df[\"charges\"])\n",
    "plt.show()\n",
    "sorted_bmi=dataFrameVerisi[\"bmi\"].sort_values()\n",
    "Q1=dataFrameVerisi[\"bmi\"].quantile(0.25)\n",
    "Q2=dataFrameVerisi[\"bmi\"].quantile(0.5)\n",
    "Q3=dataFrameVerisi[\"bmi\"].quantile(0.75)\n",
    "IQR=Q3-Q1\n",
    "print(f\"Q1: {Q1} , Q2: {Q2} ve Q3: {Q3} IQR={IQR}\")\n",
    "alt_sınır=Q1-(1.5*IQR)\n",
    "ust_sınır=Q3+(1.5*IQR)\n",
    "print(\"alt sınır: \", alt_sınır, \" \", \" üst sınır: \",ust_sınır)\n",
    "\n",
    "outlier_df = dataFrameVerisi[(sorted_bmi < alt_sınır) | (sorted_bmi > ust_sınır)]\n",
    "print(\"verilerdeki outlier: \", outlier_df)\n",
    "#outlier verileri data dan sileriz, temizlediğimiz data\n",
    "clean_data=dataFrameVerisi[dataFrameVerisi[\"bmi\"] < 47.41]\n",
    "print(clean_data)"
   ]
  },
  {
   "cell_type": "markdown",
   "id": "cdbc7e64-5ea8-4a82-8d5a-b7a51cf965df",
   "metadata": {},
   "source": [
    "## Veri Ön İşleme Yapılması"
   ]
  },
  {
   "cell_type": "markdown",
   "id": "71fa2bcf-8c93-4e02-9783-236cc0f76bb6",
   "metadata": {},
   "source": [
    "### Label Encoding ve One-Hot Encoding"
   ]
  },
  {
   "cell_type": "code",
   "execution_count": 22,
   "id": "4aad780e-9af7-4b87-8a39-7df8e34b8315",
   "metadata": {},
   "outputs": [
    {
     "name": "stdout",
     "output_type": "stream",
     "text": [
      "      age     sex     bmi  children smoker     region      charges  new_sex  \\\n",
      "0      19  female  27.900         0    yes  southwest  16884.92400        0   \n",
      "1      18    male  33.770         1     no  southeast   1725.55230        1   \n",
      "2      28    male  33.000         3     no  southeast   4449.46200        1   \n",
      "3      33    male  22.705         0     no  northwest  21984.47061        1   \n",
      "4      32    male  28.880         0     no  northwest   3866.85520        1   \n",
      "...   ...     ...     ...       ...    ...        ...          ...      ...   \n",
      "1333   50    male  30.970         3     no  northwest  10600.54830        1   \n",
      "1334   18  female  31.920         0     no  northeast   2205.98080        0   \n",
      "1335   18  female  36.850         0     no  southeast   1629.83350        0   \n",
      "1336   21  female  25.800         0     no  southwest   2007.94500        0   \n",
      "1337   61  female  29.070         0    yes  northwest  29141.36030        0   \n",
      "\n",
      "      new_smoker  \n",
      "0              1  \n",
      "1              0  \n",
      "2              0  \n",
      "3              0  \n",
      "4              0  \n",
      "...          ...  \n",
      "1333           0  \n",
      "1334           0  \n",
      "1335           0  \n",
      "1336           0  \n",
      "1337           1  \n",
      "\n",
      "[1328 rows x 9 columns]\n"
     ]
    },
    {
     "name": "stderr",
     "output_type": "stream",
     "text": [
      "C:\\Users\\omerp\\AppData\\Local\\Temp/ipykernel_25184/797066559.py:6: SettingWithCopyWarning: \n",
      "A value is trying to be set on a copy of a slice from a DataFrame.\n",
      "Try using .loc[row_indexer,col_indexer] = value instead\n",
      "\n",
      "See the caveats in the documentation: https://pandas.pydata.org/pandas-docs/stable/user_guide/indexing.html#returning-a-view-versus-a-copy\n",
      "  clean_data[\"new_sex\"]=le.fit_transform(clean_data[\"sex\"])\n",
      "C:\\Users\\omerp\\AppData\\Local\\Temp/ipykernel_25184/797066559.py:7: SettingWithCopyWarning: \n",
      "A value is trying to be set on a copy of a slice from a DataFrame.\n",
      "Try using .loc[row_indexer,col_indexer] = value instead\n",
      "\n",
      "See the caveats in the documentation: https://pandas.pydata.org/pandas-docs/stable/user_guide/indexing.html#returning-a-view-versus-a-copy\n",
      "  clean_data[\"new_smoker\"]=le.fit_transform(clean_data[\"smoker\"])\n"
     ]
    }
   ],
   "source": [
    "#sex ve smoker hiyerarşik yapıda olmadığından label encoding ile verileri sayısallaştırabiliriz.\n",
    "\n",
    "import sklearn.preprocessing\n",
    "\n",
    "le=sklearn.preprocessing.LabelEncoder()\n",
    "clean_data[\"new_sex\"]=le.fit_transform(clean_data[\"sex\"])\n",
    "clean_data[\"new_smoker\"]=le.fit_transform(clean_data[\"smoker\"])\n",
    "print(clean_data)"
   ]
  },
  {
   "cell_type": "code",
   "execution_count": 23,
   "id": "769db06a",
   "metadata": {},
   "outputs": [
    {
     "name": "stdout",
     "output_type": "stream",
     "text": [
      "   age     bmi  children      charges  new_sex  new_smoker  region_northeast  \\\n",
      "0   19  27.900         0  16884.92400        0           1                 0   \n",
      "1   18  33.770         1   1725.55230        1           0                 0   \n",
      "2   28  33.000         3   4449.46200        1           0                 0   \n",
      "3   33  22.705         0  21984.47061        1           0                 0   \n",
      "4   32  28.880         0   3866.85520        1           0                 0   \n",
      "\n",
      "   region_northwest  region_southeast  region_southwest  \n",
      "0                 0                 0                 1  \n",
      "1                 0                 1                 0  \n",
      "2                 0                 1                 0  \n",
      "3                 1                 0                 0  \n",
      "4                 1                 0                 0  \n",
      "<class 'pandas.core.frame.DataFrame'>\n",
      "Int64Index: 1328 entries, 0 to 1337\n",
      "Data columns (total 10 columns):\n",
      " #   Column            Non-Null Count  Dtype  \n",
      "---  ------            --------------  -----  \n",
      " 0   age               1328 non-null   int64  \n",
      " 1   bmi               1328 non-null   float64\n",
      " 2   children          1328 non-null   int64  \n",
      " 3   charges           1328 non-null   float64\n",
      " 4   new_sex           1328 non-null   int32  \n",
      " 5   new_smoker        1328 non-null   int32  \n",
      " 6   region_northeast  1328 non-null   uint8  \n",
      " 7   region_northwest  1328 non-null   uint8  \n",
      " 8   region_southeast  1328 non-null   uint8  \n",
      " 9   region_southwest  1328 non-null   uint8  \n",
      "dtypes: float64(2), int32(2), int64(2), uint8(4)\n",
      "memory usage: 67.4 KB\n",
      "None\n"
     ]
    },
    {
     "name": "stderr",
     "output_type": "stream",
     "text": [
      "C:\\Users\\omerp\\anaconda3\\lib\\site-packages\\pandas\\core\\frame.py:4906: SettingWithCopyWarning: \n",
      "A value is trying to be set on a copy of a slice from a DataFrame\n",
      "\n",
      "See the caveats in the documentation: https://pandas.pydata.org/pandas-docs/stable/user_guide/indexing.html#returning-a-view-versus-a-copy\n",
      "  return super().drop(\n"
     ]
    }
   ],
   "source": [
    "#region 4 alt bölgeden oluşmaktadır, onehotencoding ile sayısallaştıabiliriz\n",
    "#sex ve smoker sütunlarını veriden alırız.\n",
    "clean_data.drop(columns=[\"sex\",\"smoker\"],axis=1 ,inplace=True)\n",
    "\n",
    "clean_data=pd.get_dummies(data=clean_data, columns=[\"region\"],prefix=[\"region\"])\n",
    "print(clean_data.head(5))\n",
    "print(clean_data.info())"
   ]
  },
  {
   "cell_type": "markdown",
   "id": "a1b28f64-cada-44ad-a1e8-13f9f3cc4dee",
   "metadata": {},
   "source": [
    "## Eğitim / Test verisine bölme"
   ]
  },
  {
   "cell_type": "code",
   "execution_count": 24,
   "id": "3392da77-b0f1-4d20-ab8e-256e4e2a97f6",
   "metadata": {},
   "outputs": [],
   "source": [
    "from sklearn.model_selection import train_test_split\n",
    "X = clean_data.drop(columns = 'charges', axis = 1)\n",
    "y = clean_data['charges'].values"
   ]
  },
  {
   "cell_type": "code",
   "execution_count": 25,
   "id": "d9fd522c-b193-4dcd-b545-1113964cf469",
   "metadata": {},
   "outputs": [
    {
     "name": "stdout",
     "output_type": "stream",
     "text": [
      "      age     bmi  children  new_sex  new_smoker  region_northeast  \\\n",
      "0      19  27.900         0        0           1                 0   \n",
      "1      18  33.770         1        1           0                 0   \n",
      "2      28  33.000         3        1           0                 0   \n",
      "3      33  22.705         0        1           0                 0   \n",
      "4      32  28.880         0        1           0                 0   \n",
      "...   ...     ...       ...      ...         ...               ...   \n",
      "1333   50  30.970         3        1           0                 0   \n",
      "1334   18  31.920         0        0           0                 1   \n",
      "1335   18  36.850         0        0           0                 0   \n",
      "1336   21  25.800         0        0           0                 0   \n",
      "1337   61  29.070         0        0           1                 0   \n",
      "\n",
      "      region_northwest  region_southeast  region_southwest  \n",
      "0                    0                 0                 1  \n",
      "1                    0                 1                 0  \n",
      "2                    0                 1                 0  \n",
      "3                    1                 0                 0  \n",
      "4                    1                 0                 0  \n",
      "...                ...               ...               ...  \n",
      "1333                 1                 0                 0  \n",
      "1334                 0                 0                 0  \n",
      "1335                 0                 1                 0  \n",
      "1336                 0                 0                 1  \n",
      "1337                 1                 0                 0  \n",
      "\n",
      "[1328 rows x 9 columns]\n"
     ]
    }
   ],
   "source": [
    "print(X)"
   ]
  },
  {
   "cell_type": "code",
   "execution_count": 26,
   "id": "e5df8992-f905-43e4-81b4-b10b9be76558",
   "metadata": {},
   "outputs": [
    {
     "name": "stdout",
     "output_type": "stream",
     "text": [
      "[16884.924   1725.5523  4449.462  ...  1629.8335  2007.945  29141.3603]\n"
     ]
    }
   ],
   "source": [
    "print(y)"
   ]
  },
  {
   "cell_type": "code",
   "execution_count": 27,
   "id": "d11248a5-1149-4f34-a9e2-1a3bdb0a5a6f",
   "metadata": {},
   "outputs": [
    {
     "name": "stdout",
     "output_type": "stream",
     "text": [
      "shape of X_train : (1062, 9)\n",
      "shape of X_test : (266, 9)\n",
      "shape of y_train : (1062,)\n",
      "shape of y_test : (266,)\n"
     ]
    }
   ],
   "source": [
    "X_train, X_test ,y_train ,y_test = train_test_split(X,y,test_size = 0.2 , random_state=35)\n",
    "print('shape of X_train :',X_train.shape)\n",
    "print('shape of X_test :',X_test.shape)\n",
    "print('shape of y_train :',y_train.shape)\n",
    "print('shape of y_test :',y_test.shape)"
   ]
  },
  {
   "cell_type": "code",
   "execution_count": 28,
   "id": "2f7de593-b33e-4f14-890c-482070443e7c",
   "metadata": {},
   "outputs": [],
   "source": [
    "# StandardScaler yarat\n",
    "\n",
    "from sklearn.preprocessing import StandardScaler\n",
    "\n",
    "scaler = StandardScaler()\n",
    "\n",
    "# X_train üzerinde fit ve transform yap\n",
    "X_train = scaler.fit_transform(X_train)\n",
    "\n",
    "# X_test'i transform yap\n",
    "X_test = scaler.transform(X_test)"
   ]
  },
  {
   "cell_type": "markdown",
   "id": "d297325d",
   "metadata": {},
   "source": [
    "### Model 1 => LineerRegressor"
   ]
  },
  {
   "cell_type": "code",
   "execution_count": 29,
   "id": "b7ef7096",
   "metadata": {},
   "outputs": [],
   "source": [
    "from sklearn.linear_model import LinearRegression \n",
    "linReg = LinearRegression()\n",
    "linReg.fit(X_train, y_train)\n",
    "y_tahminlinReg= linReg.predict(X_test)"
   ]
  },
  {
   "cell_type": "code",
   "execution_count": 30,
   "id": "888c109b",
   "metadata": {},
   "outputs": [
    {
     "data": {
      "text/html": [
       "<div>\n",
       "<style scoped>\n",
       "    .dataframe tbody tr th:only-of-type {\n",
       "        vertical-align: middle;\n",
       "    }\n",
       "\n",
       "    .dataframe tbody tr th {\n",
       "        vertical-align: top;\n",
       "    }\n",
       "\n",
       "    .dataframe thead th {\n",
       "        text-align: right;\n",
       "    }\n",
       "</style>\n",
       "<table border=\"1\" class=\"dataframe\">\n",
       "  <thead>\n",
       "    <tr style=\"text-align: right;\">\n",
       "      <th></th>\n",
       "      <th>Gerçek Y</th>\n",
       "    </tr>\n",
       "  </thead>\n",
       "  <tbody>\n",
       "    <tr>\n",
       "      <th>0</th>\n",
       "      <td>28950.46920</td>\n",
       "    </tr>\n",
       "    <tr>\n",
       "      <th>1</th>\n",
       "      <td>8703.45600</td>\n",
       "    </tr>\n",
       "    <tr>\n",
       "      <th>2</th>\n",
       "      <td>16577.77950</td>\n",
       "    </tr>\n",
       "    <tr>\n",
       "      <th>3</th>\n",
       "      <td>28868.66390</td>\n",
       "    </tr>\n",
       "    <tr>\n",
       "      <th>4</th>\n",
       "      <td>5469.00660</td>\n",
       "    </tr>\n",
       "    <tr>\n",
       "      <th>...</th>\n",
       "      <td>...</td>\n",
       "    </tr>\n",
       "    <tr>\n",
       "      <th>261</th>\n",
       "      <td>27724.28875</td>\n",
       "    </tr>\n",
       "    <tr>\n",
       "      <th>262</th>\n",
       "      <td>13770.09790</td>\n",
       "    </tr>\n",
       "    <tr>\n",
       "      <th>263</th>\n",
       "      <td>7954.51700</td>\n",
       "    </tr>\n",
       "    <tr>\n",
       "      <th>264</th>\n",
       "      <td>2483.73600</td>\n",
       "    </tr>\n",
       "    <tr>\n",
       "      <th>265</th>\n",
       "      <td>3260.19900</td>\n",
       "    </tr>\n",
       "  </tbody>\n",
       "</table>\n",
       "<p>266 rows × 1 columns</p>\n",
       "</div>"
      ],
      "text/plain": [
       "        Gerçek Y\n",
       "0    28950.46920\n",
       "1     8703.45600\n",
       "2    16577.77950\n",
       "3    28868.66390\n",
       "4     5469.00660\n",
       "..           ...\n",
       "261  27724.28875\n",
       "262  13770.09790\n",
       "263   7954.51700\n",
       "264   2483.73600\n",
       "265   3260.19900\n",
       "\n",
       "[266 rows x 1 columns]"
      ]
     },
     "execution_count": 30,
     "metadata": {},
     "output_type": "execute_result"
    }
   ],
   "source": [
    "tahminDFlinReg = pd.DataFrame(y_test,columns=[\"Gerçek Y\"])\n",
    "tahminDFlinReg"
   ]
  },
  {
   "cell_type": "code",
   "execution_count": 31,
   "id": "601ff2eb",
   "metadata": {},
   "outputs": [
    {
     "data": {
      "text/plain": [
       "0      36769.912827\n",
       "1       9720.186827\n",
       "2      26000.722332\n",
       "3      37038.267114\n",
       "4       6624.623160\n",
       "           ...     \n",
       "261     4615.293096\n",
       "262    13421.794613\n",
       "263    10292.699592\n",
       "264     1613.139250\n",
       "265     1747.448846\n",
       "Length: 266, dtype: float64"
      ]
     },
     "execution_count": 31,
     "metadata": {},
     "output_type": "execute_result"
    }
   ],
   "source": [
    "testTahminlerilinReg = pd.Series(y_tahminlinReg.reshape(266,))\n",
    "testTahminlerilinReg"
   ]
  },
  {
   "cell_type": "code",
   "execution_count": 32,
   "id": "e0d2e592",
   "metadata": {},
   "outputs": [
    {
     "data": {
      "text/html": [
       "<div>\n",
       "<style scoped>\n",
       "    .dataframe tbody tr th:only-of-type {\n",
       "        vertical-align: middle;\n",
       "    }\n",
       "\n",
       "    .dataframe tbody tr th {\n",
       "        vertical-align: top;\n",
       "    }\n",
       "\n",
       "    .dataframe thead th {\n",
       "        text-align: right;\n",
       "    }\n",
       "</style>\n",
       "<table border=\"1\" class=\"dataframe\">\n",
       "  <thead>\n",
       "    <tr style=\"text-align: right;\">\n",
       "      <th></th>\n",
       "      <th>Gerçek Y-LinReg</th>\n",
       "      <th>Tahmin Y-LinReg</th>\n",
       "    </tr>\n",
       "  </thead>\n",
       "  <tbody>\n",
       "    <tr>\n",
       "      <th>0</th>\n",
       "      <td>28950.46920</td>\n",
       "      <td>36769.912827</td>\n",
       "    </tr>\n",
       "    <tr>\n",
       "      <th>1</th>\n",
       "      <td>8703.45600</td>\n",
       "      <td>9720.186827</td>\n",
       "    </tr>\n",
       "    <tr>\n",
       "      <th>2</th>\n",
       "      <td>16577.77950</td>\n",
       "      <td>26000.722332</td>\n",
       "    </tr>\n",
       "    <tr>\n",
       "      <th>3</th>\n",
       "      <td>28868.66390</td>\n",
       "      <td>37038.267114</td>\n",
       "    </tr>\n",
       "    <tr>\n",
       "      <th>4</th>\n",
       "      <td>5469.00660</td>\n",
       "      <td>6624.623160</td>\n",
       "    </tr>\n",
       "    <tr>\n",
       "      <th>...</th>\n",
       "      <td>...</td>\n",
       "      <td>...</td>\n",
       "    </tr>\n",
       "    <tr>\n",
       "      <th>261</th>\n",
       "      <td>27724.28875</td>\n",
       "      <td>4615.293096</td>\n",
       "    </tr>\n",
       "    <tr>\n",
       "      <th>262</th>\n",
       "      <td>13770.09790</td>\n",
       "      <td>13421.794613</td>\n",
       "    </tr>\n",
       "    <tr>\n",
       "      <th>263</th>\n",
       "      <td>7954.51700</td>\n",
       "      <td>10292.699592</td>\n",
       "    </tr>\n",
       "    <tr>\n",
       "      <th>264</th>\n",
       "      <td>2483.73600</td>\n",
       "      <td>1613.139250</td>\n",
       "    </tr>\n",
       "    <tr>\n",
       "      <th>265</th>\n",
       "      <td>3260.19900</td>\n",
       "      <td>1747.448846</td>\n",
       "    </tr>\n",
       "  </tbody>\n",
       "</table>\n",
       "<p>266 rows × 2 columns</p>\n",
       "</div>"
      ],
      "text/plain": [
       "     Gerçek Y-LinReg  Tahmin Y-LinReg\n",
       "0        28950.46920     36769.912827\n",
       "1         8703.45600      9720.186827\n",
       "2        16577.77950     26000.722332\n",
       "3        28868.66390     37038.267114\n",
       "4         5469.00660      6624.623160\n",
       "..               ...              ...\n",
       "261      27724.28875      4615.293096\n",
       "262      13770.09790     13421.794613\n",
       "263       7954.51700     10292.699592\n",
       "264       2483.73600      1613.139250\n",
       "265       3260.19900      1747.448846\n",
       "\n",
       "[266 rows x 2 columns]"
      ]
     },
     "execution_count": 32,
     "metadata": {},
     "output_type": "execute_result"
    }
   ],
   "source": [
    "tahminDF= pd.concat([tahminDFlinReg,testTahminlerilinReg],axis=1)\n",
    "tahminDF.columns = [\"Gerçek Y-LinReg\", \"Tahmin Y-LinReg\"]\n",
    "\n",
    "tahminDF"
   ]
  },
  {
   "cell_type": "markdown",
   "id": "4092e374",
   "metadata": {},
   "source": [
    "## Modeli Değerlendirme"
   ]
  },
  {
   "cell_type": "code",
   "execution_count": 33,
   "id": "bde1ba07",
   "metadata": {},
   "outputs": [],
   "source": [
    "# Metric Libraris\n",
    "from sklearn.metrics import mean_squared_error          # MSe\n",
    "from sklearn.metrics import r2_score                    # R²  \n",
    "from sklearn import metrics\n"
   ]
  },
  {
   "cell_type": "code",
   "execution_count": 34,
   "id": "2da798de",
   "metadata": {},
   "outputs": [
    {
     "name": "stdout",
     "output_type": "stream",
     "text": [
      "RSquared_LinReg: 0.7472890247523998\n",
      "Mean Squared Error_LinReg: 34292933.26937035\n"
     ]
    }
   ],
   "source": [
    "print('RSquared_LinReg:', r2_score(y_test, testTahminlerilinReg)) \n",
    "print('Mean Squared Error_LinReg:', metrics.mean_squared_error(y_test, testTahminlerilinReg)) "
   ]
  },
  {
   "cell_type": "markdown",
   "id": "623ad685",
   "metadata": {},
   "source": [
    "### Model 2 => GradientBoostingRegressor"
   ]
  },
  {
   "cell_type": "code",
   "execution_count": 35,
   "id": "d7a20d20-9984-45f7-ac86-c0844b2f1a20",
   "metadata": {},
   "outputs": [],
   "source": [
    "from sklearn import ensemble\n",
    "\n",
    "\n",
    "gbregressor = ensemble.GradientBoostingRegressor()\n",
    "gbregressor.fit(X_train,y_train)\n",
    "y_tahminGbr = gbregressor.predict(X_test)"
   ]
  },
  {
   "cell_type": "code",
   "execution_count": 36,
   "id": "327bfd3f-a92d-4f7d-8cf1-97ad25422856",
   "metadata": {},
   "outputs": [
    {
     "data": {
      "text/html": [
       "<div>\n",
       "<style scoped>\n",
       "    .dataframe tbody tr th:only-of-type {\n",
       "        vertical-align: middle;\n",
       "    }\n",
       "\n",
       "    .dataframe tbody tr th {\n",
       "        vertical-align: top;\n",
       "    }\n",
       "\n",
       "    .dataframe thead th {\n",
       "        text-align: right;\n",
       "    }\n",
       "</style>\n",
       "<table border=\"1\" class=\"dataframe\">\n",
       "  <thead>\n",
       "    <tr style=\"text-align: right;\">\n",
       "      <th></th>\n",
       "      <th>Gerçek Y</th>\n",
       "    </tr>\n",
       "  </thead>\n",
       "  <tbody>\n",
       "    <tr>\n",
       "      <th>0</th>\n",
       "      <td>28950.46920</td>\n",
       "    </tr>\n",
       "    <tr>\n",
       "      <th>1</th>\n",
       "      <td>8703.45600</td>\n",
       "    </tr>\n",
       "    <tr>\n",
       "      <th>2</th>\n",
       "      <td>16577.77950</td>\n",
       "    </tr>\n",
       "    <tr>\n",
       "      <th>3</th>\n",
       "      <td>28868.66390</td>\n",
       "    </tr>\n",
       "    <tr>\n",
       "      <th>4</th>\n",
       "      <td>5469.00660</td>\n",
       "    </tr>\n",
       "    <tr>\n",
       "      <th>...</th>\n",
       "      <td>...</td>\n",
       "    </tr>\n",
       "    <tr>\n",
       "      <th>261</th>\n",
       "      <td>27724.28875</td>\n",
       "    </tr>\n",
       "    <tr>\n",
       "      <th>262</th>\n",
       "      <td>13770.09790</td>\n",
       "    </tr>\n",
       "    <tr>\n",
       "      <th>263</th>\n",
       "      <td>7954.51700</td>\n",
       "    </tr>\n",
       "    <tr>\n",
       "      <th>264</th>\n",
       "      <td>2483.73600</td>\n",
       "    </tr>\n",
       "    <tr>\n",
       "      <th>265</th>\n",
       "      <td>3260.19900</td>\n",
       "    </tr>\n",
       "  </tbody>\n",
       "</table>\n",
       "<p>266 rows × 1 columns</p>\n",
       "</div>"
      ],
      "text/plain": [
       "        Gerçek Y\n",
       "0    28950.46920\n",
       "1     8703.45600\n",
       "2    16577.77950\n",
       "3    28868.66390\n",
       "4     5469.00660\n",
       "..           ...\n",
       "261  27724.28875\n",
       "262  13770.09790\n",
       "263   7954.51700\n",
       "264   2483.73600\n",
       "265   3260.19900\n",
       "\n",
       "[266 rows x 1 columns]"
      ]
     },
     "execution_count": 36,
     "metadata": {},
     "output_type": "execute_result"
    }
   ],
   "source": [
    "tahminDFGbr = pd.DataFrame(y_test,columns=[\"Gerçek Y\"])\n",
    "tahminDFGbr"
   ]
  },
  {
   "cell_type": "code",
   "execution_count": 37,
   "id": "60afaa1e-9775-4818-8237-637ae9e52f14",
   "metadata": {},
   "outputs": [
    {
     "data": {
      "text/plain": [
       "0      27589.503608\n",
       "1       9726.613866\n",
       "2      17615.320964\n",
       "3      29748.253956\n",
       "4       5947.391249\n",
       "           ...     \n",
       "261     3210.994952\n",
       "262    14016.989464\n",
       "263     7582.325262\n",
       "264     5263.799225\n",
       "265     2951.824375\n",
       "Length: 266, dtype: float64"
      ]
     },
     "execution_count": 37,
     "metadata": {},
     "output_type": "execute_result"
    }
   ],
   "source": [
    "testTahminleriGbr = pd.Series(y_tahminGbr.reshape(266,))\n",
    "testTahminleriGbr"
   ]
  },
  {
   "cell_type": "code",
   "execution_count": 38,
   "id": "16f500de",
   "metadata": {},
   "outputs": [
    {
     "data": {
      "text/html": [
       "<div>\n",
       "<style scoped>\n",
       "    .dataframe tbody tr th:only-of-type {\n",
       "        vertical-align: middle;\n",
       "    }\n",
       "\n",
       "    .dataframe tbody tr th {\n",
       "        vertical-align: top;\n",
       "    }\n",
       "\n",
       "    .dataframe thead th {\n",
       "        text-align: right;\n",
       "    }\n",
       "</style>\n",
       "<table border=\"1\" class=\"dataframe\">\n",
       "  <thead>\n",
       "    <tr style=\"text-align: right;\">\n",
       "      <th></th>\n",
       "      <th>Gerçek Y-GBR</th>\n",
       "      <th>Tahmin Y-GBR</th>\n",
       "    </tr>\n",
       "  </thead>\n",
       "  <tbody>\n",
       "    <tr>\n",
       "      <th>0</th>\n",
       "      <td>28950.46920</td>\n",
       "      <td>27589.503608</td>\n",
       "    </tr>\n",
       "    <tr>\n",
       "      <th>1</th>\n",
       "      <td>8703.45600</td>\n",
       "      <td>9726.613866</td>\n",
       "    </tr>\n",
       "    <tr>\n",
       "      <th>2</th>\n",
       "      <td>16577.77950</td>\n",
       "      <td>17615.320964</td>\n",
       "    </tr>\n",
       "    <tr>\n",
       "      <th>3</th>\n",
       "      <td>28868.66390</td>\n",
       "      <td>29748.253956</td>\n",
       "    </tr>\n",
       "    <tr>\n",
       "      <th>4</th>\n",
       "      <td>5469.00660</td>\n",
       "      <td>5947.391249</td>\n",
       "    </tr>\n",
       "    <tr>\n",
       "      <th>...</th>\n",
       "      <td>...</td>\n",
       "      <td>...</td>\n",
       "    </tr>\n",
       "    <tr>\n",
       "      <th>261</th>\n",
       "      <td>27724.28875</td>\n",
       "      <td>3210.994952</td>\n",
       "    </tr>\n",
       "    <tr>\n",
       "      <th>262</th>\n",
       "      <td>13770.09790</td>\n",
       "      <td>14016.989464</td>\n",
       "    </tr>\n",
       "    <tr>\n",
       "      <th>263</th>\n",
       "      <td>7954.51700</td>\n",
       "      <td>7582.325262</td>\n",
       "    </tr>\n",
       "    <tr>\n",
       "      <th>264</th>\n",
       "      <td>2483.73600</td>\n",
       "      <td>5263.799225</td>\n",
       "    </tr>\n",
       "    <tr>\n",
       "      <th>265</th>\n",
       "      <td>3260.19900</td>\n",
       "      <td>2951.824375</td>\n",
       "    </tr>\n",
       "  </tbody>\n",
       "</table>\n",
       "<p>266 rows × 2 columns</p>\n",
       "</div>"
      ],
      "text/plain": [
       "     Gerçek Y-GBR  Tahmin Y-GBR\n",
       "0     28950.46920  27589.503608\n",
       "1      8703.45600   9726.613866\n",
       "2     16577.77950  17615.320964\n",
       "3     28868.66390  29748.253956\n",
       "4      5469.00660   5947.391249\n",
       "..            ...           ...\n",
       "261   27724.28875   3210.994952\n",
       "262   13770.09790  14016.989464\n",
       "263    7954.51700   7582.325262\n",
       "264    2483.73600   5263.799225\n",
       "265    3260.19900   2951.824375\n",
       "\n",
       "[266 rows x 2 columns]"
      ]
     },
     "execution_count": 38,
     "metadata": {},
     "output_type": "execute_result"
    }
   ],
   "source": [
    "tahminDF1= pd.concat([tahminDFGbr,testTahminleriGbr],axis=1)\n",
    "tahminDF1.columns = [\"Gerçek Y-GBR\", \"Tahmin Y-GBR\"]\n",
    "\n",
    "tahminDF1"
   ]
  },
  {
   "cell_type": "markdown",
   "id": "edc695f3",
   "metadata": {},
   "source": [
    "## Modeli Değerlendirme\n"
   ]
  },
  {
   "cell_type": "code",
   "execution_count": 39,
   "id": "8b846098",
   "metadata": {},
   "outputs": [],
   "source": [
    "# Metric Libraris\n",
    "from sklearn.metrics import mean_squared_error          # MSe\n",
    "from sklearn.metrics import r2_score                    # R²  \n",
    "from sklearn import metrics\n"
   ]
  },
  {
   "cell_type": "code",
   "execution_count": 40,
   "id": "b272c127",
   "metadata": {},
   "outputs": [
    {
     "name": "stdout",
     "output_type": "stream",
     "text": [
      "RSquared_GbReg: 0.849880897827711\n",
      "Mean Squared Error_GbReg: 20371194.200046834\n"
     ]
    }
   ],
   "source": [
    "print('RSquared_GbReg:', r2_score(y_test, testTahminleriGbr)) \n",
    "print('Mean Squared Error_GbReg:', metrics.mean_squared_error(y_test, testTahminleriGbr)) \n"
   ]
  },
  {
   "cell_type": "markdown",
   "id": "22e3874b",
   "metadata": {},
   "source": [
    "### Model 3 => DecisionTreeRegressor"
   ]
  },
  {
   "cell_type": "code",
   "execution_count": 41,
   "id": "c19024f1",
   "metadata": {},
   "outputs": [],
   "source": [
    "from sklearn.tree import DecisionTreeRegressor\n",
    "DTReg = DecisionTreeRegressor(max_depth=4, random_state=0)\n",
    "DTReg.fit(X_train, y_train)\n",
    "y_tahminDtR = DTReg.predict(X_test)\n"
   ]
  },
  {
   "cell_type": "code",
   "execution_count": 42,
   "id": "87911409",
   "metadata": {},
   "outputs": [
    {
     "data": {
      "text/html": [
       "<div>\n",
       "<style scoped>\n",
       "    .dataframe tbody tr th:only-of-type {\n",
       "        vertical-align: middle;\n",
       "    }\n",
       "\n",
       "    .dataframe tbody tr th {\n",
       "        vertical-align: top;\n",
       "    }\n",
       "\n",
       "    .dataframe thead th {\n",
       "        text-align: right;\n",
       "    }\n",
       "</style>\n",
       "<table border=\"1\" class=\"dataframe\">\n",
       "  <thead>\n",
       "    <tr style=\"text-align: right;\">\n",
       "      <th></th>\n",
       "      <th>Gerçek Y</th>\n",
       "    </tr>\n",
       "  </thead>\n",
       "  <tbody>\n",
       "    <tr>\n",
       "      <th>0</th>\n",
       "      <td>28950.46920</td>\n",
       "    </tr>\n",
       "    <tr>\n",
       "      <th>1</th>\n",
       "      <td>8703.45600</td>\n",
       "    </tr>\n",
       "    <tr>\n",
       "      <th>2</th>\n",
       "      <td>16577.77950</td>\n",
       "    </tr>\n",
       "    <tr>\n",
       "      <th>3</th>\n",
       "      <td>28868.66390</td>\n",
       "    </tr>\n",
       "    <tr>\n",
       "      <th>4</th>\n",
       "      <td>5469.00660</td>\n",
       "    </tr>\n",
       "    <tr>\n",
       "      <th>...</th>\n",
       "      <td>...</td>\n",
       "    </tr>\n",
       "    <tr>\n",
       "      <th>261</th>\n",
       "      <td>27724.28875</td>\n",
       "    </tr>\n",
       "    <tr>\n",
       "      <th>262</th>\n",
       "      <td>13770.09790</td>\n",
       "    </tr>\n",
       "    <tr>\n",
       "      <th>263</th>\n",
       "      <td>7954.51700</td>\n",
       "    </tr>\n",
       "    <tr>\n",
       "      <th>264</th>\n",
       "      <td>2483.73600</td>\n",
       "    </tr>\n",
       "    <tr>\n",
       "      <th>265</th>\n",
       "      <td>3260.19900</td>\n",
       "    </tr>\n",
       "  </tbody>\n",
       "</table>\n",
       "<p>266 rows × 1 columns</p>\n",
       "</div>"
      ],
      "text/plain": [
       "        Gerçek Y\n",
       "0    28950.46920\n",
       "1     8703.45600\n",
       "2    16577.77950\n",
       "3    28868.66390\n",
       "4     5469.00660\n",
       "..           ...\n",
       "261  27724.28875\n",
       "262  13770.09790\n",
       "263   7954.51700\n",
       "264   2483.73600\n",
       "265   3260.19900\n",
       "\n",
       "[266 rows x 1 columns]"
      ]
     },
     "execution_count": 42,
     "metadata": {},
     "output_type": "execute_result"
    }
   ],
   "source": [
    "tahminDf2 = pd.DataFrame(y_test,columns=[\"Gerçek Y\"])\n",
    "tahminDf2"
   ]
  },
  {
   "cell_type": "code",
   "execution_count": 43,
   "id": "02d363e0",
   "metadata": {},
   "outputs": [
    {
     "data": {
      "text/plain": [
       "0      27321.628333\n",
       "1       9584.982696\n",
       "2      16871.737665\n",
       "3      27321.628333\n",
       "4       6179.498867\n",
       "           ...     \n",
       "261     2572.132669\n",
       "262    15319.479112\n",
       "263     8200.707048\n",
       "264     6179.498867\n",
       "265     6179.498867\n",
       "Length: 266, dtype: float64"
      ]
     },
     "execution_count": 43,
     "metadata": {},
     "output_type": "execute_result"
    }
   ],
   "source": [
    "testTahminleriDtR = pd.Series(y_tahminDtR.reshape(266,))\n",
    "testTahminleriDtR"
   ]
  },
  {
   "cell_type": "code",
   "execution_count": 44,
   "id": "1819c649",
   "metadata": {},
   "outputs": [
    {
     "data": {
      "text/html": [
       "<div>\n",
       "<style scoped>\n",
       "    .dataframe tbody tr th:only-of-type {\n",
       "        vertical-align: middle;\n",
       "    }\n",
       "\n",
       "    .dataframe tbody tr th {\n",
       "        vertical-align: top;\n",
       "    }\n",
       "\n",
       "    .dataframe thead th {\n",
       "        text-align: right;\n",
       "    }\n",
       "</style>\n",
       "<table border=\"1\" class=\"dataframe\">\n",
       "  <thead>\n",
       "    <tr style=\"text-align: right;\">\n",
       "      <th></th>\n",
       "      <th>Gerçek Y-DtR</th>\n",
       "      <th>Tahmin Y-DtR</th>\n",
       "    </tr>\n",
       "  </thead>\n",
       "  <tbody>\n",
       "    <tr>\n",
       "      <th>0</th>\n",
       "      <td>28950.46920</td>\n",
       "      <td>27321.628333</td>\n",
       "    </tr>\n",
       "    <tr>\n",
       "      <th>1</th>\n",
       "      <td>8703.45600</td>\n",
       "      <td>9584.982696</td>\n",
       "    </tr>\n",
       "    <tr>\n",
       "      <th>2</th>\n",
       "      <td>16577.77950</td>\n",
       "      <td>16871.737665</td>\n",
       "    </tr>\n",
       "    <tr>\n",
       "      <th>3</th>\n",
       "      <td>28868.66390</td>\n",
       "      <td>27321.628333</td>\n",
       "    </tr>\n",
       "    <tr>\n",
       "      <th>4</th>\n",
       "      <td>5469.00660</td>\n",
       "      <td>6179.498867</td>\n",
       "    </tr>\n",
       "    <tr>\n",
       "      <th>...</th>\n",
       "      <td>...</td>\n",
       "      <td>...</td>\n",
       "    </tr>\n",
       "    <tr>\n",
       "      <th>261</th>\n",
       "      <td>27724.28875</td>\n",
       "      <td>2572.132669</td>\n",
       "    </tr>\n",
       "    <tr>\n",
       "      <th>262</th>\n",
       "      <td>13770.09790</td>\n",
       "      <td>15319.479112</td>\n",
       "    </tr>\n",
       "    <tr>\n",
       "      <th>263</th>\n",
       "      <td>7954.51700</td>\n",
       "      <td>8200.707048</td>\n",
       "    </tr>\n",
       "    <tr>\n",
       "      <th>264</th>\n",
       "      <td>2483.73600</td>\n",
       "      <td>6179.498867</td>\n",
       "    </tr>\n",
       "    <tr>\n",
       "      <th>265</th>\n",
       "      <td>3260.19900</td>\n",
       "      <td>6179.498867</td>\n",
       "    </tr>\n",
       "  </tbody>\n",
       "</table>\n",
       "<p>266 rows × 2 columns</p>\n",
       "</div>"
      ],
      "text/plain": [
       "     Gerçek Y-DtR  Tahmin Y-DtR\n",
       "0     28950.46920  27321.628333\n",
       "1      8703.45600   9584.982696\n",
       "2     16577.77950  16871.737665\n",
       "3     28868.66390  27321.628333\n",
       "4      5469.00660   6179.498867\n",
       "..            ...           ...\n",
       "261   27724.28875   2572.132669\n",
       "262   13770.09790  15319.479112\n",
       "263    7954.51700   8200.707048\n",
       "264    2483.73600   6179.498867\n",
       "265    3260.19900   6179.498867\n",
       "\n",
       "[266 rows x 2 columns]"
      ]
     },
     "execution_count": 44,
     "metadata": {},
     "output_type": "execute_result"
    }
   ],
   "source": [
    "tahminDF2= pd.concat([tahminDf2,testTahminleriDtR],axis=1)\n",
    "tahminDF2.columns = [\"Gerçek Y-DtR\", \"Tahmin Y-DtR\"]\n",
    "\n",
    "tahminDF2"
   ]
  },
  {
   "cell_type": "markdown",
   "id": "952c84d0",
   "metadata": {},
   "source": [
    "##  Modeli Değerlendirme"
   ]
  },
  {
   "cell_type": "code",
   "execution_count": 45,
   "id": "e890aec3",
   "metadata": {},
   "outputs": [],
   "source": [
    "# Metric Libraris\n",
    "from sklearn.metrics import mean_squared_error          # MSe\n",
    "from sklearn.metrics import r2_score                    # R²  \n",
    "from sklearn import metrics"
   ]
  },
  {
   "cell_type": "code",
   "execution_count": 46,
   "id": "e376a605",
   "metadata": {},
   "outputs": [
    {
     "name": "stdout",
     "output_type": "stream",
     "text": [
      "RSquared_DtReg: 0.83704945103629\n",
      "Mean Squared Error_DtReg: 22112424.267860666\n"
     ]
    }
   ],
   "source": [
    "print('RSquared_DtReg:', r2_score(y_test, testTahminleriDtR)) \n",
    "print('Mean Squared Error_DtReg:', metrics.mean_squared_error(y_test, testTahminleriDtR)) "
   ]
  }
 ],
 "metadata": {
  "kernelspec": {
   "display_name": "Python 3 (ipykernel)",
   "language": "python",
   "name": "python3"
  },
  "language_info": {
   "codemirror_mode": {
    "name": "ipython",
    "version": 3
   },
   "file_extension": ".py",
   "mimetype": "text/x-python",
   "name": "python",
   "nbconvert_exporter": "python",
   "pygments_lexer": "ipython3",
   "version": "3.9.7"
  }
 },
 "nbformat": 4,
 "nbformat_minor": 5
}
